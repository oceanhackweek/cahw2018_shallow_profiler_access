{
 "cells": [
  {
   "cell_type": "markdown",
   "metadata": {},
   "source": [
    "# Running Notes\n",
    "\n",
    "Jupter notebook [app mode](https://github.com/oschuett/appmode) -- make a dashboard\n",
    "\n",
    "Multiple plots tied to a single time slider?\n",
    "\n",
    "Start with time-series / scatter plots?\n",
    "\n",
    "* Don: Data access\n",
    "* Freidrich: A good \"universal plot\" to handle many of the instrument types (time series)\n"
   ]
  },
  {
   "cell_type": "code",
   "execution_count": null,
   "metadata": {
    "collapsed": true
   },
   "outputs": [],
   "source": []
  }
 ],
 "metadata": {
  "kernelspec": {
   "display_name": "Python 3",
   "language": "python",
   "name": "python3"
  },
  "language_info": {
   "codemirror_mode": {
    "name": "ipython",
    "version": 3
   },
   "file_extension": ".py",
   "mimetype": "text/x-python",
   "name": "python",
   "nbconvert_exporter": "python",
   "pygments_lexer": "ipython3",
   "version": "3.6.0"
  }
 },
 "nbformat": 4,
 "nbformat_minor": 2
}

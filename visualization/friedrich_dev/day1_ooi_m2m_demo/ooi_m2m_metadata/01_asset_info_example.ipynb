{
 "cells": [
  {
   "cell_type": "markdown",
   "metadata": {},
   "source": [
    "## Requesting Instrument Asset Information\n",
    "\n",
    "In this brief demo you will learn:\n",
    "\n",
    "* how to request asset information for an instrument, such as deployment start and end dates, lat, lon and depth\n",
    "\n",
    "Before we get started, login in at https://ooinet.oceanobservatories.org/ and obtain your <b>API username and API token</b> under your profile (top right corner)."
   ]
  },
  {
   "cell_type": "code",
   "execution_count": 1,
   "metadata": {},
   "outputs": [],
   "source": [
    "username = ''\n",
    "token = ''"
   ]
  },
  {
   "cell_type": "markdown",
   "metadata": {},
   "source": [
    "Optionally, you can handle authentication outside the notebook by setting up a .netrc file in your home directory and loading it with your bash profile. Open your terminal\n",
    "```\n",
    "$ touch .netrc\n",
    "$ chmod 700 .netrc\n",
    "$ vim .netrc\n",
    "\n",
    "```\n",
    "Add the following your your .netrc file:\n",
    "\n",
    "```\n",
    "machine ooinet.oceanobservatories.org\n",
    "login OOIAPI-TEMPD1SPK4K0X\n",
    "password TEMPCXL48ET2XT\n",
    "```\n",
    "\n",
    "Use your username and token. Save the file and uncomment the following cell."
   ]
  },
  {
   "cell_type": "code",
   "execution_count": 2,
   "metadata": {},
   "outputs": [],
   "source": [
    "import netrc\n",
    "netrc = netrc.netrc()\n",
    "remoteHostName = \"ooinet.oceanobservatories.org\"\n",
    "info = netrc.authenticators(remoteHostName)\n",
    "username = info[0]\n",
    "token = info[2]"
   ]
  },
  {
   "cell_type": "markdown",
   "metadata": {},
   "source": [
    "### Pulling asset information into your notebook.\n",
    "\n",
    "The ingredients being used to build the asset_info_url can be found here. For this example, we will pull in the asset information for the 3D Thermistor Array http://ooi.visualocean.net/instruments/view/RS03ASHS-MJ03B-07-TMPSFA301"
   ]
  },
  {
   "cell_type": "code",
   "execution_count": 3,
   "metadata": {},
   "outputs": [],
   "source": [
    "import requests\n",
    "import datetime\n",
    "import pandas as pd"
   ]
  },
  {
   "cell_type": "code",
   "execution_count": 12,
   "metadata": {},
   "outputs": [],
   "source": [
    "subsite = 'RS03AXPS'\n",
    "node = 'PC03A'\n",
    "sensor = '4A-CTDPFA303'"
   ]
  },
  {
   "cell_type": "markdown",
   "metadata": {},
   "source": [
    "Now let's build the asset_info_url and request the information"
   ]
  },
  {
   "cell_type": "code",
   "execution_count": 13,
   "metadata": {},
   "outputs": [],
   "source": [
    "base_url = 'https://ooinet.oceanobservatories.org/api/m2m/12587/events/deployment/inv/'\n",
    "\n",
    "asset_info_url ='/'.join((base_url, subsite, node, sensor, '-1'))\n",
    "\n",
    "r = requests.get(asset_info_url,auth=(username, token))\n",
    "asset_info = r.json()"
   ]
  },
  {
   "cell_type": "code",
   "execution_count": 14,
   "metadata": {},
   "outputs": [
    {
     "data": {
      "text/plain": [
       "{u'depth': 190.0,\n",
       " u'latitude': 45.8305,\n",
       " u'location': [-129.75341, 45.8305],\n",
       " u'longitude': -129.75341,\n",
       " u'orbitRadius': None}"
      ]
     },
     "execution_count": 14,
     "metadata": {},
     "output_type": "execute_result"
    }
   ],
   "source": [
    "asset_info[0]['location']"
   ]
  },
  {
   "cell_type": "markdown",
   "metadata": {},
   "source": [
    "Similar to an synchronous json data request, the asset information is returned as a list of json object. In the following example we will pull out the"
   ]
  },
  {
   "cell_type": "code",
   "execution_count": 15,
   "metadata": {},
   "outputs": [
    {
     "data": {
      "text/html": [
       "<div>\n",
       "<style scoped>\n",
       "    .dataframe tbody tr th:only-of-type {\n",
       "        vertical-align: middle;\n",
       "    }\n",
       "\n",
       "    .dataframe tbody tr th {\n",
       "        vertical-align: top;\n",
       "    }\n",
       "\n",
       "    .dataframe thead th {\n",
       "        text-align: right;\n",
       "    }\n",
       "</style>\n",
       "<table border=\"1\" class=\"dataframe\">\n",
       "  <thead>\n",
       "    <tr style=\"text-align: right;\">\n",
       "      <th></th>\n",
       "      <th>refdes</th>\n",
       "      <th>deployment</th>\n",
       "      <th>start_time</th>\n",
       "      <th>end_time</th>\n",
       "    </tr>\n",
       "  </thead>\n",
       "  <tbody>\n",
       "    <tr>\n",
       "      <th>0</th>\n",
       "      <td>RS03AXPS-PC03A-4A-CTDPFA303</td>\n",
       "      <td>1</td>\n",
       "      <td>2014-09-27 13:29:00</td>\n",
       "      <td>2015-07-09 00:00:00.000000</td>\n",
       "    </tr>\n",
       "    <tr>\n",
       "      <th>1</th>\n",
       "      <td>RS03AXPS-PC03A-4A-CTDPFA303</td>\n",
       "      <td>2</td>\n",
       "      <td>2015-07-09 00:07:00</td>\n",
       "      <td>2016-07-14 00:00:00.000000</td>\n",
       "    </tr>\n",
       "    <tr>\n",
       "      <th>2</th>\n",
       "      <td>RS03AXPS-PC03A-4A-CTDPFA303</td>\n",
       "      <td>3</td>\n",
       "      <td>2016-07-14 21:18:00</td>\n",
       "      <td>2017-07-30 14:00:00.000000</td>\n",
       "    </tr>\n",
       "    <tr>\n",
       "      <th>3</th>\n",
       "      <td>RS03AXPS-PC03A-4A-CTDPFA303</td>\n",
       "      <td>4</td>\n",
       "      <td>2017-07-31 04:00:00</td>\n",
       "      <td>2018-02-21 05:46:41.942697</td>\n",
       "    </tr>\n",
       "  </tbody>\n",
       "</table>\n",
       "</div>"
      ],
      "text/plain": [
       "                        refdes  deployment          start_time  \\\n",
       "0  RS03AXPS-PC03A-4A-CTDPFA303           1 2014-09-27 13:29:00   \n",
       "1  RS03AXPS-PC03A-4A-CTDPFA303           2 2015-07-09 00:07:00   \n",
       "2  RS03AXPS-PC03A-4A-CTDPFA303           3 2016-07-14 21:18:00   \n",
       "3  RS03AXPS-PC03A-4A-CTDPFA303           4 2017-07-31 04:00:00   \n",
       "\n",
       "                    end_time  \n",
       "0 2015-07-09 00:00:00.000000  \n",
       "1 2016-07-14 00:00:00.000000  \n",
       "2 2017-07-30 14:00:00.000000  \n",
       "3 2018-02-21 05:46:41.942697  "
      ]
     },
     "execution_count": 15,
     "metadata": {},
     "output_type": "execute_result"
    }
   ],
   "source": [
    "ref_des_list = []\n",
    "start_time_list = []\n",
    "end_time_list = []\n",
    "deployment_list = []\n",
    "depth_list = []\n",
    "lat_list = [] \n",
    "lon_list = [] \n",
    "\n",
    "for i in range(len(asset_info)):\n",
    "    refdes = asset_info[i]['referenceDesignator']\n",
    "    ref_des_list.append(refdes)\n",
    "\n",
    "    deployment = asset_info[i]['deploymentNumber']\n",
    "    deployment_list.append(deployment)\n",
    "\n",
    "    start = asset_info[i]['eventStartTime']\n",
    "    end = asset_info[i]['eventStopTime']\n",
    "\n",
    "    try:\n",
    "        start_time = datetime.datetime.utcfromtimestamp(start/1000.0)\n",
    "        start_time_list.append(start_time)\n",
    "\n",
    "        end_time = datetime.datetime.utcfromtimestamp(end/1000.0)\n",
    "        end_time_list.append(end_time)\n",
    "\n",
    "    except:\n",
    "        end_time = datetime.datetime.utcnow()\n",
    "        end_time_list.append(end_time)\n",
    "        \n",
    "    depth = asset_info[i]['location']['depth']\n",
    "    depth_list.append(depth)\n",
    "    lat = asset_info[i]['location']['latitude']\n",
    "    lat_list.append(lat)\n",
    "    lon = asset_info[i]['location']['longitude']\n",
    "    lon_list.append(lon)\n",
    "    \n",
    "\n",
    "data_dict = {\n",
    "    'refdes':ref_des_list,\n",
    "    'deployment':deployment_list,\n",
    "    'start_time':start_time_list,\n",
    "    'end_time':end_time_list,\n",
    "    'depth': depth_list,\n",
    "    'latitutde':lat_list,\n",
    "    'longitude':lon_list}\n",
    "\n",
    "deployment_data = pd.DataFrame(data_dict, columns = ['refdes', 'deployment','start_time', 'end_time'])\n",
    "\n",
    "deployment_data"
   ]
  },
  {
   "cell_type": "code",
   "execution_count": null,
   "metadata": {},
   "outputs": [],
   "source": []
  },
  {
   "cell_type": "code",
   "execution_count": null,
   "metadata": {},
   "outputs": [],
   "source": []
  }
 ],
 "metadata": {
  "kernelspec": {
   "display_name": "Python2 OOI",
   "language": "python",
   "name": "ooi2"
  },
  "language_info": {
   "codemirror_mode": {
    "name": "ipython",
    "version": 2
   },
   "file_extension": ".py",
   "mimetype": "text/x-python",
   "name": "python",
   "nbconvert_exporter": "python",
   "pygments_lexer": "ipython2",
   "version": "2.7.14"
  }
 },
 "nbformat": 4,
 "nbformat_minor": 2
}

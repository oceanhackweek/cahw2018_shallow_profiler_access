{
 "cells": [
  {
   "cell_type": "markdown",
   "metadata": {},
   "source": [
    "## Plotting Time-Series Data in Real-Time \n",
    "\n",
    "In this example we will learn how to plot data from a Bottom Pressure and Tilt unit at the ASHES vent field in real-time.\n",
    "\n",
    "You wil learn:\n",
    "\n",
    "* how to find the data you are looking for\n",
    "* how to use the machine to machine API to continuously request JSON data\n",
    "* how to extract the relevant data on the fly and plot in real-time\n",
    "\n",
    "Login in at https://ooinet.oceanobservatories.org/ and obtain your username and token under your profile (top right corner)."
   ]
  },
  {
   "cell_type": "code",
   "execution_count": 1,
   "metadata": {},
   "outputs": [],
   "source": [
    "username = ''\n",
    "token = ''"
   ]
  },
  {
   "cell_type": "markdown",
   "metadata": {},
   "source": [
    "Optionally, you can handle authentication outside the notebook by setting up a .netrc file in your home directory and loading it with your bash profile. Open your terminal\n",
    "```\n",
    "$ touch .netrc\n",
    "$ chmod 700 .netrc\n",
    "$ vim .netrc\n",
    "\n",
    "```\n",
    "Add the following your your .netrc file:\n",
    "\n",
    "```\n",
    "machine ooinet.oceanobservatories.org\n",
    "login OOIAPI-TEMPD1SPK4K0X\n",
    "password TEMPCXL48ET2XT\n",
    "```\n",
    "\n",
    "Use your username and token. Save the file and uncomment the following cell."
   ]
  },
  {
   "cell_type": "code",
   "execution_count": 2,
   "metadata": {},
   "outputs": [],
   "source": [
    "import netrc\n",
    "netrc = netrc.netrc()\n",
    "remoteHostName = \"ooinet.oceanobservatories.org\"\n",
    "info = netrc.authenticators(remoteHostName)\n",
    "username = info[0]\n",
    "token = info[2]"
   ]
  },
  {
   "cell_type": "code",
   "execution_count": 3,
   "metadata": {},
   "outputs": [],
   "source": [
    "# import datetime\n",
    "# import requests\n",
    "# import matplotlib.pyplot as plt\n",
    "# import matplotlib.gridspec as gridspec\n",
    "# import netCDF4 as nc\n",
    "# from IPython import display"
   ]
  },
  {
   "cell_type": "markdown",
   "metadata": {},
   "source": [
    "In this example we will build real-time requests for data from the Cabled ASHES Vent Field (RS03ASHS) - Medium-Power JBox (MJ03B) - Bottom Pressure and Tilt (09-BOTPTA304) sensor. The ingredients being used to build the data_request_url can be found here: http://ooi.visualocean.net/instruments/view/RS03ASHS-MJ03B-09-BOTPTA304. To build an M2M request, you need the Reference Designator, Delivery Method and Data Stream Name. Note that streams containing science data products for a given instrument are designated as Science in the Type column.\n",
    "\n",
    "![RS03ASHS-MJ03B-09-BOTPTA304](https://github.com/friedrichknuth/ooi_data_analysis/raw/master/qc_db_images/RS03ASHS-MJ03B-09-BOTPTA304.png)"
   ]
  },
  {
   "cell_type": "code",
   "execution_count": 4,
   "metadata": {},
   "outputs": [],
   "source": [
    "subsite = 'RS03ASHS'\n",
    "node = 'MJ03B'\n",
    "sensor = '09-BOTPTA304'\n",
    "method = 'streamed'\n",
    "stream = 'botpt_nano_sample'"
   ]
  },
  {
   "cell_type": "markdown",
   "metadata": {},
   "source": [
    "The code will start by requesting the last 10 seconds of data and then make a new request every second by replacing the request url start time with the time stamp of the last data point received. No end time is specified, so everything available up until present will be returned, and the limit is set to 1000 data points for any given request. No sensor is sampling at > 100 Hz, so you are guaranteed to receive all available data in the response.\n",
    "\n",
    "![realtime_pseudo_code](https://github.com/friedrichknuth/ooi_data_analysis/raw/master/qc_db_images/realtime_pseudo_code.png)"
   ]
  },
  {
   "cell_type": "code",
   "execution_count": 5,
   "metadata": {},
   "outputs": [],
   "source": [
    "base_url = 'https://ooinet.oceanobservatories.org/api/m2m/12576/sensor/inv/'\n",
    "\n",
    "# get the time stamp of the last 10 seconds of data\n",
    "beginDT = (datetime.datetime.utcnow() - datetime.timedelta(seconds=10)).strftime(\"%Y-%m-%dT%H:%M:%S.000Z\")\n",
    "\n",
    "# build the url and request parameters\n",
    "data_request_url ='/'.join((base_url,subsite,node,sensor,method,stream))\n",
    "params = {\n",
    "    'beginDT':beginDT,\n",
    "    'limit':1000,   \n",
    "}"
   ]
  },
  {
   "cell_type": "markdown",
   "metadata": {},
   "source": [
    "Now that we have our data request url ready, let's see how long it takes for a datapoint recorded at sea to get to our notebook."
   ]
  },
  {
   "cell_type": "code",
   "execution_count": 6,
   "metadata": {},
   "outputs": [
    {
     "name": "stdout",
     "output_type": "stream",
     "text": [
      "2018-02-22 17:29:38.759350\n",
      "2018-02-22 17:29:34.200000\n"
     ]
    }
   ],
   "source": [
    "# get the current time\n",
    "current_time = datetime.datetime.utcnow()\n",
    "\n",
    "# launch the request\n",
    "response = requests.get(data_request_url, params=params, auth=(username, token))\n",
    "data = response.json()\n",
    "\n",
    "# extract the last time stamp in the response and print\n",
    "print(current_time)\n",
    "print(nc.num2date(data[-1]['time'],'seconds since 1900-01-01'))"
   ]
  },
  {
   "cell_type": "markdown",
   "metadata": {},
   "source": [
    "Pretty fast! Let's plot some data."
   ]
  },
  {
   "cell_type": "code",
   "execution_count": 7,
   "metadata": {},
   "outputs": [
    {
     "data": {
      "image/png": "[encoded data removed]",
      "text/plain": [
       "<matplotlib.figure.Figure at 0x11aab7e50>"
      ]
     },
     "metadata": {},
     "output_type": "display_data"
    }
   ],
   "source": [
    "# set up your variable lists to extract from the json response\n",
    "time_stamp = []\n",
    "pressure = []\n",
    "\n",
    "# set up the plot\n",
    "plt.figure(figsize=(13,5))\n",
    "plt.grid()\n",
    "ax = plt.gca()\n",
    "\n",
    "# establish a session\n",
    "session = requests.session()\n",
    "\n",
    "# enter request and plotting loop\n",
    "# while True: # use for endless loop\n",
    "for i in range(1000):\n",
    "    # send request for data\n",
    "    response = session.get(data_request_url, params=params, auth=(username, token))\n",
    "    data = response.json()\n",
    "    \n",
    "    # get last time stamp in response\n",
    "    last_time = nc.num2date(data[-1]['time'],'seconds since 1900-01-01').strftime(\"%Y-%m-%dT%H:%M:%S.000Z\")\n",
    "\n",
    "    for i in range(len(data)):\n",
    "        time_stamp.append(nc.num2date(data[i]['time'],'seconds since 1900-01-01').replace(microsecond=0))\n",
    "        pressure.append(data[i]['bottom_pressure'])\n",
    "\n",
    "    # plot the data\n",
    "    plt.plot(time_stamp, pressure, marker = 'o',linestyle='None',color='Blue')\n",
    "\n",
    "    # tighten layout and display plot\n",
    "    plt.tight_layout()\n",
    "    ax.get_yaxis().get_major_formatter().set_useOffset(False)\n",
    "    \n",
    "    display.clear_output(wait=True)\n",
    "    display.display(plt.gcf())\n",
    "    \n",
    "\n",
    "\n",
    "    # set time request time stamp = last time stamp received and plot again\n",
    "    params['beginDT'] = last_time\n",
    "\n",
    "plt.close()"
   ]
  },
  {
   "cell_type": "markdown",
   "metadata": {},
   "source": [
    "Notice that points aren't just streaming onto the plot at 20 Hz, which is the sampling rate of the instrument. In this setup, your machine is drawing a new plot from scratch with each new response, which costs time and could be optimized. But that is not what is causing the couple second delay. Let's have a look at what is happening with each new request."
   ]
  },
  {
   "cell_type": "code",
   "execution_count": 8,
   "metadata": {},
   "outputs": [
    {
     "name": "stdout",
     "output_type": "stream",
     "text": [
      "2018-02-22 17:29:44.250000\n",
      "2018-02-22 17:29:44.250000\n",
      "2018-02-22 17:29:44.250000\n",
      "2018-02-22 17:29:44.250000\n",
      "2018-02-22 17:29:44.250000\n",
      "2018-02-22 17:29:44.250000\n",
      "2018-02-22 17:29:44.250000\n",
      "2018-02-22 17:29:49.200000\n",
      "2018-02-22 17:29:49.200000\n",
      "2018-02-22 17:29:49.200000\n",
      "2018-02-22 17:29:49.200000\n",
      "2018-02-22 17:29:49.200000\n",
      "2018-02-22 17:29:49.200000\n",
      "2018-02-22 17:29:49.200000\n",
      "2018-02-22 17:29:49.200000\n"
     ]
    }
   ],
   "source": [
    "for i in range(15):  \n",
    "    response = requests.get(data_request_url, params=params, auth=(username, token))\n",
    "    data = response.json()\n",
    "    print(nc.num2date(data[-1]['time'],'seconds since 1900-01-01'))"
   ]
  },
  {
   "cell_type": "markdown",
   "metadata": {},
   "source": [
    "Notice that it takes about 5 requests for the last time stamp in the response to change. This is because new data are only released approximately five seconds when the system receives repeated requests from the same user. This is an artifical threshold that was preliminarily set. It should be possible to lower this threshold based on the demand and need for real-time data.\n",
    "\n",
    "Below, we optimize the plotting routine to only add points if there is are new data."
   ]
  },
  {
   "cell_type": "code",
   "execution_count": 9,
   "metadata": {},
   "outputs": [
    {
     "data": {
      "image/png": "[encoded data removed]",
      "text/plain": [
       "<matplotlib.figure.Figure at 0x11aabd0d0>"
      ]
     },
     "metadata": {},
     "output_type": "display_data"
    }
   ],
   "source": [
    "# set up your variable lists to extract from the json response\n",
    "time_stamp = []\n",
    "pressure = []\n",
    "\n",
    "# set up the plot\n",
    "plt.figure(figsize=(13,5))\n",
    "plt.grid()\n",
    "ax = plt.gca()\n",
    "\n",
    "# establish a session\n",
    "session = requests.session()\n",
    "\n",
    "# enter request and plotting loop\n",
    "# while True: # use for endless loop\n",
    "for i in range(1000):\n",
    "    # send request for data\n",
    "    response = session.get(data_request_url, params=params, auth=(username, token))\n",
    "    data = response.json()\n",
    "    \n",
    "    # get last time stamp in response\n",
    "    last_time = nc.num2date(data[-1]['time'],'seconds since 1900-01-01').strftime(\"%Y-%m-%dT%H:%M:%S.000Z\")\n",
    "    \n",
    "    # check if new data has been received\n",
    "    if params['beginDT'] == last_time:\n",
    "        continue\n",
    "        \n",
    "    # if new data is reveived, extract and append values to list, then plot\n",
    "    else:\n",
    "        for i in range(len(data)):\n",
    "            time_stamp.append(nc.num2date(data[i]['time'],'seconds since 1900-01-01').replace(microsecond=0))\n",
    "            pressure.append(data[i]['bottom_pressure'])\n",
    "         \n",
    "        # plot the data\n",
    "        plt.plot(time_stamp, pressure, marker = 'o',linestyle='None',color='Blue')\n",
    "\n",
    "        # tighten layout and display plot\n",
    "        plt.tight_layout()\n",
    "        ax.get_yaxis().get_major_formatter().set_useOffset(False)\n",
    "        display.clear_output(wait=True)\n",
    "        display.display(plt.gcf())\n",
    "        \n",
    "        # set time request time stamp = last time stamp received and plot again\n",
    "        params['beginDT'] = last_time\n",
    "\n",
    "plt.close()"
   ]
  },
  {
   "cell_type": "code",
   "execution_count": null,
   "metadata": {},
   "outputs": [],
   "source": []
  }
 ],
 "metadata": {
  "kernelspec": {
   "display_name": "Python2 OOI",
   "language": "python",
   "name": "ooi2"
  },
  "language_info": {
   "codemirror_mode": {
    "name": "ipython",
    "version": 2
   },
   "file_extension": ".py",
   "mimetype": "text/x-python",
   "name": "python",
   "nbconvert_exporter": "python",
   "pygments_lexer": "ipython2",
   "version": "2.7.14"
  }
 },
 "nbformat": 4,
 "nbformat_minor": 2
}
